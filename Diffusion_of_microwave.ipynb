{
  "nbformat": 4,
  "nbformat_minor": 0,
  "metadata": {
    "colab": {
      "provenance": [],
      "authorship_tag": "ABX9TyN7RSV/I6QoVplboQsNQeAG",
      "include_colab_link": true
    },
    "kernelspec": {
      "name": "python3",
      "display_name": "Python 3"
    },
    "language_info": {
      "name": "python"
    }
  },
  "cells": [
    {
      "cell_type": "markdown",
      "metadata": {
        "id": "view-in-github",
        "colab_type": "text"
      },
      "source": [
        "<a href=\"https://colab.research.google.com/github/takeshinishimura/Agricultural_Markets/blob/main/Diffusion_of_microwave.ipynb\" target=\"_parent\"><img src=\"https://colab.research.google.com/assets/colab-badge.svg\" alt=\"Open In Colab\"/></a>"
      ]
    },
    {
      "cell_type": "code",
      "execution_count": 1,
      "metadata": {
        "id": "NXxBb73elV4K"
      },
      "outputs": [],
      "source": [
        "import numpy as np\n",
        "import pandas as pd\n",
        "import math\n",
        "from matplotlib import pyplot as plt"
      ]
    },
    {
      "cell_type": "code",
      "source": [
        "!wget https://www.esri.cao.go.jp/jp/stat/shouhi/0403fukyuritsu.xls"
      ],
      "metadata": {
        "colab": {
          "base_uri": "https://localhost:8080/"
        },
        "id": "4qPz_wcnlfyF",
        "outputId": "1cbcb677-6a15-4fda-d6d6-6ea6e87c5ded"
      },
      "execution_count": 2,
      "outputs": [
        {
          "output_type": "stream",
          "name": "stdout",
          "text": [
            "--2023-03-21 05:13:25--  https://www.esri.cao.go.jp/jp/stat/shouhi/0403fukyuritsu.xls\n",
            "Resolving www.esri.cao.go.jp (www.esri.cao.go.jp)... 210.148.118.43, 2001:240:1d4:1::43\n",
            "Connecting to www.esri.cao.go.jp (www.esri.cao.go.jp)|210.148.118.43|:443... connected.\n",
            "HTTP request sent, awaiting response... 200 OK\n",
            "Length: 74240 (72K) [application/vnd.ms-excel]\n",
            "Saving to: ‘0403fukyuritsu.xls’\n",
            "\n",
            "0403fukyuritsu.xls  100%[===================>]  72.50K   197KB/s    in 0.4s    \n",
            "\n",
            "2023-03-21 05:13:27 (197 KB/s) - ‘0403fukyuritsu.xls’ saved [74240/74240]\n",
            "\n"
          ]
        }
      ]
    },
    {
      "cell_type": "code",
      "source": [
        "df = pd.read_excel(\"0403fukyuritsu.xls\", header=2, skipfooter=2)\n",
        "df.head()"
      ],
      "metadata": {
        "colab": {
          "base_uri": "https://localhost:8080/",
          "height": 297
        },
        "id": "FT1Y0OXjlhlF",
        "outputId": "630e069e-b6bf-4007-f0e1-770c6bf6b86c"
      },
      "execution_count": 3,
      "outputs": [
        {
          "output_type": "execute_result",
          "data": {
            "text/plain": [
              "  Unnamed: 0  調査項目 じゅうたん 応接セット ユニット家具 ベッド 温水洗浄便座 洗髪洗面化粧台 システムキッチン 温水器  ...  \\\n",
              "0       調査時期   NaN    　　    　　     　　  　　     　　      　　       　　  　　  ...   \n",
              "1         昭和  32.9    　　   8.7     　　  　　     　　      　　       　　  　　  ...   \n",
              "2        NaN  33.2    　　   9.4     　　  　　     　　      　　       　　  　　  ...   \n",
              "3        NaN  34.2    　　  12.4     　　  　　     　　      　　       　　  　　  ...   \n",
              "4        NaN  35.2    　　  15.5     　　  　　     　　      　　       　　  　　  ...   \n",
              "\n",
              "  携帯電話 乗用車 Unnamed: 46 Unnamed: 47 ｵｰﾄﾊﾞｲ･ｽｸｰﾀｰ   自転車   カメラ  ピアノ 電子鍵盤楽器 ゴルフセット  \n",
              "0  NaN  　　          新車         中古車           　　    　　    　　   　　     　　     　　  \n",
              "1  NaN  　　          　　          　　           　　  63.3  35.7  1.2    3.7     　　  \n",
              "2  NaN  　　          　　          　　           　　  65.6  38.5  1.3    4.1     　　  \n",
              "3  NaN  　　          　　          　　          8.4  68.7  43.4  1.6    5.1     　　  \n",
              "4  NaN  　　          　　          　　          9.6  67.7  45.8    2    5.9     　　  \n",
              "\n",
              "[5 rows x 54 columns]"
            ],
            "text/html": [
              "\n",
              "  <div id=\"df-16a8260b-a8a3-4498-b92d-43baeb441c88\">\n",
              "    <div class=\"colab-df-container\">\n",
              "      <div>\n",
              "<style scoped>\n",
              "    .dataframe tbody tr th:only-of-type {\n",
              "        vertical-align: middle;\n",
              "    }\n",
              "\n",
              "    .dataframe tbody tr th {\n",
              "        vertical-align: top;\n",
              "    }\n",
              "\n",
              "    .dataframe thead th {\n",
              "        text-align: right;\n",
              "    }\n",
              "</style>\n",
              "<table border=\"1\" class=\"dataframe\">\n",
              "  <thead>\n",
              "    <tr style=\"text-align: right;\">\n",
              "      <th></th>\n",
              "      <th>Unnamed: 0</th>\n",
              "      <th>調査項目</th>\n",
              "      <th>じゅうたん</th>\n",
              "      <th>応接セット</th>\n",
              "      <th>ユニット家具</th>\n",
              "      <th>ベッド</th>\n",
              "      <th>温水洗浄便座</th>\n",
              "      <th>洗髪洗面化粧台</th>\n",
              "      <th>システムキッチン</th>\n",
              "      <th>温水器</th>\n",
              "      <th>...</th>\n",
              "      <th>携帯電話</th>\n",
              "      <th>乗用車</th>\n",
              "      <th>Unnamed: 46</th>\n",
              "      <th>Unnamed: 47</th>\n",
              "      <th>ｵｰﾄﾊﾞｲ･ｽｸｰﾀｰ</th>\n",
              "      <th>自転車</th>\n",
              "      <th>カメラ</th>\n",
              "      <th>ピアノ</th>\n",
              "      <th>電子鍵盤楽器</th>\n",
              "      <th>ゴルフセット</th>\n",
              "    </tr>\n",
              "  </thead>\n",
              "  <tbody>\n",
              "    <tr>\n",
              "      <th>0</th>\n",
              "      <td>調査時期</td>\n",
              "      <td>NaN</td>\n",
              "      <td></td>\n",
              "      <td></td>\n",
              "      <td></td>\n",
              "      <td></td>\n",
              "      <td></td>\n",
              "      <td></td>\n",
              "      <td></td>\n",
              "      <td></td>\n",
              "      <td>...</td>\n",
              "      <td>NaN</td>\n",
              "      <td></td>\n",
              "      <td>新車</td>\n",
              "      <td>中古車</td>\n",
              "      <td></td>\n",
              "      <td></td>\n",
              "      <td></td>\n",
              "      <td></td>\n",
              "      <td></td>\n",
              "      <td></td>\n",
              "    </tr>\n",
              "    <tr>\n",
              "      <th>1</th>\n",
              "      <td>昭和</td>\n",
              "      <td>32.9</td>\n",
              "      <td></td>\n",
              "      <td>8.7</td>\n",
              "      <td></td>\n",
              "      <td></td>\n",
              "      <td></td>\n",
              "      <td></td>\n",
              "      <td></td>\n",
              "      <td></td>\n",
              "      <td>...</td>\n",
              "      <td>NaN</td>\n",
              "      <td></td>\n",
              "      <td></td>\n",
              "      <td></td>\n",
              "      <td></td>\n",
              "      <td>63.3</td>\n",
              "      <td>35.7</td>\n",
              "      <td>1.2</td>\n",
              "      <td>3.7</td>\n",
              "      <td></td>\n",
              "    </tr>\n",
              "    <tr>\n",
              "      <th>2</th>\n",
              "      <td>NaN</td>\n",
              "      <td>33.2</td>\n",
              "      <td></td>\n",
              "      <td>9.4</td>\n",
              "      <td></td>\n",
              "      <td></td>\n",
              "      <td></td>\n",
              "      <td></td>\n",
              "      <td></td>\n",
              "      <td></td>\n",
              "      <td>...</td>\n",
              "      <td>NaN</td>\n",
              "      <td></td>\n",
              "      <td></td>\n",
              "      <td></td>\n",
              "      <td></td>\n",
              "      <td>65.6</td>\n",
              "      <td>38.5</td>\n",
              "      <td>1.3</td>\n",
              "      <td>4.1</td>\n",
              "      <td></td>\n",
              "    </tr>\n",
              "    <tr>\n",
              "      <th>3</th>\n",
              "      <td>NaN</td>\n",
              "      <td>34.2</td>\n",
              "      <td></td>\n",
              "      <td>12.4</td>\n",
              "      <td></td>\n",
              "      <td></td>\n",
              "      <td></td>\n",
              "      <td></td>\n",
              "      <td></td>\n",
              "      <td></td>\n",
              "      <td>...</td>\n",
              "      <td>NaN</td>\n",
              "      <td></td>\n",
              "      <td></td>\n",
              "      <td></td>\n",
              "      <td>8.4</td>\n",
              "      <td>68.7</td>\n",
              "      <td>43.4</td>\n",
              "      <td>1.6</td>\n",
              "      <td>5.1</td>\n",
              "      <td></td>\n",
              "    </tr>\n",
              "    <tr>\n",
              "      <th>4</th>\n",
              "      <td>NaN</td>\n",
              "      <td>35.2</td>\n",
              "      <td></td>\n",
              "      <td>15.5</td>\n",
              "      <td></td>\n",
              "      <td></td>\n",
              "      <td></td>\n",
              "      <td></td>\n",
              "      <td></td>\n",
              "      <td></td>\n",
              "      <td>...</td>\n",
              "      <td>NaN</td>\n",
              "      <td></td>\n",
              "      <td></td>\n",
              "      <td></td>\n",
              "      <td>9.6</td>\n",
              "      <td>67.7</td>\n",
              "      <td>45.8</td>\n",
              "      <td>2</td>\n",
              "      <td>5.9</td>\n",
              "      <td></td>\n",
              "    </tr>\n",
              "  </tbody>\n",
              "</table>\n",
              "<p>5 rows × 54 columns</p>\n",
              "</div>\n",
              "      <button class=\"colab-df-convert\" onclick=\"convertToInteractive('df-16a8260b-a8a3-4498-b92d-43baeb441c88')\"\n",
              "              title=\"Convert this dataframe to an interactive table.\"\n",
              "              style=\"display:none;\">\n",
              "        \n",
              "  <svg xmlns=\"http://www.w3.org/2000/svg\" height=\"24px\"viewBox=\"0 0 24 24\"\n",
              "       width=\"24px\">\n",
              "    <path d=\"M0 0h24v24H0V0z\" fill=\"none\"/>\n",
              "    <path d=\"M18.56 5.44l.94 2.06.94-2.06 2.06-.94-2.06-.94-.94-2.06-.94 2.06-2.06.94zm-11 1L8.5 8.5l.94-2.06 2.06-.94-2.06-.94L8.5 2.5l-.94 2.06-2.06.94zm10 10l.94 2.06.94-2.06 2.06-.94-2.06-.94-.94-2.06-.94 2.06-2.06.94z\"/><path d=\"M17.41 7.96l-1.37-1.37c-.4-.4-.92-.59-1.43-.59-.52 0-1.04.2-1.43.59L10.3 9.45l-7.72 7.72c-.78.78-.78 2.05 0 2.83L4 21.41c.39.39.9.59 1.41.59.51 0 1.02-.2 1.41-.59l7.78-7.78 2.81-2.81c.8-.78.8-2.07 0-2.86zM5.41 20L4 18.59l7.72-7.72 1.47 1.35L5.41 20z\"/>\n",
              "  </svg>\n",
              "      </button>\n",
              "      \n",
              "  <style>\n",
              "    .colab-df-container {\n",
              "      display:flex;\n",
              "      flex-wrap:wrap;\n",
              "      gap: 12px;\n",
              "    }\n",
              "\n",
              "    .colab-df-convert {\n",
              "      background-color: #E8F0FE;\n",
              "      border: none;\n",
              "      border-radius: 50%;\n",
              "      cursor: pointer;\n",
              "      display: none;\n",
              "      fill: #1967D2;\n",
              "      height: 32px;\n",
              "      padding: 0 0 0 0;\n",
              "      width: 32px;\n",
              "    }\n",
              "\n",
              "    .colab-df-convert:hover {\n",
              "      background-color: #E2EBFA;\n",
              "      box-shadow: 0px 1px 2px rgba(60, 64, 67, 0.3), 0px 1px 3px 1px rgba(60, 64, 67, 0.15);\n",
              "      fill: #174EA6;\n",
              "    }\n",
              "\n",
              "    [theme=dark] .colab-df-convert {\n",
              "      background-color: #3B4455;\n",
              "      fill: #D2E3FC;\n",
              "    }\n",
              "\n",
              "    [theme=dark] .colab-df-convert:hover {\n",
              "      background-color: #434B5C;\n",
              "      box-shadow: 0px 1px 3px 1px rgba(0, 0, 0, 0.15);\n",
              "      filter: drop-shadow(0px 1px 2px rgba(0, 0, 0, 0.3));\n",
              "      fill: #FFFFFF;\n",
              "    }\n",
              "  </style>\n",
              "\n",
              "      <script>\n",
              "        const buttonEl =\n",
              "          document.querySelector('#df-16a8260b-a8a3-4498-b92d-43baeb441c88 button.colab-df-convert');\n",
              "        buttonEl.style.display =\n",
              "          google.colab.kernel.accessAllowed ? 'block' : 'none';\n",
              "\n",
              "        async function convertToInteractive(key) {\n",
              "          const element = document.querySelector('#df-16a8260b-a8a3-4498-b92d-43baeb441c88');\n",
              "          const dataTable =\n",
              "            await google.colab.kernel.invokeFunction('convertToInteractive',\n",
              "                                                     [key], {});\n",
              "          if (!dataTable) return;\n",
              "\n",
              "          const docLinkHtml = 'Like what you see? Visit the ' +\n",
              "            '<a target=\"_blank\" href=https://colab.research.google.com/notebooks/data_table.ipynb>data table notebook</a>'\n",
              "            + ' to learn more about interactive tables.';\n",
              "          element.innerHTML = '';\n",
              "          dataTable['output_type'] = 'display_data';\n",
              "          await google.colab.output.renderOutput(dataTable, element);\n",
              "          const docLink = document.createElement('div');\n",
              "          docLink.innerHTML = docLinkHtml;\n",
              "          element.appendChild(docLink);\n",
              "        }\n",
              "      </script>\n",
              "    </div>\n",
              "  </div>\n",
              "  "
            ]
          },
          "metadata": {},
          "execution_count": 3
        }
      ]
    },
    {
      "cell_type": "code",
      "source": [
        "df = df.replace('\\u3000\\u3000', np.nan)\n",
        "df = df.drop(0)"
      ],
      "metadata": {
        "id": "Ip_CBrZXljS6"
      },
      "execution_count": 4,
      "outputs": []
    },
    {
      "cell_type": "code",
      "source": [
        "nen = []\n",
        "for i in df[\"調査項目\"]:\n",
        "    if i > 30:\n",
        "        nen.append(math.floor(i) + 1925)\n",
        "    else:\n",
        "        nen.append(math.floor(i) + 1988)\n",
        "df[\"年\"] = nen"
      ],
      "metadata": {
        "id": "ST0lPE_ElmSD"
      },
      "execution_count": 5,
      "outputs": []
    },
    {
      "cell_type": "code",
      "source": [
        "plt.scatter(df[\"年\"], df[\"電子レンジ\"])\n",
        "plt.ylim(0, 100)"
      ],
      "metadata": {
        "colab": {
          "base_uri": "https://localhost:8080/",
          "height": 287
        },
        "id": "BniyE0rOlpp5",
        "outputId": "16ba4a55-f636-4d71-967a-26f42543e56f"
      },
      "execution_count": 8,
      "outputs": [
        {
          "output_type": "execute_result",
          "data": {
            "text/plain": [
              "(0.0, 100.0)"
            ]
          },
          "metadata": {},
          "execution_count": 8
        },
        {
          "output_type": "display_data",
          "data": {
            "text/plain": [
              "<Figure size 432x288 with 1 Axes>"
            ],
            "image/png": "[encoded data removed]"
          },
          "metadata": {
            "needs_background": "light"
          }
        }
      ]
    },
    {
      "cell_type": "code",
      "source": [
        "plt.scatter(df[\"年\"], df[\"電気冷蔵庫\"])\n",
        "plt.ylim(0, 100)"
      ],
      "metadata": {
        "colab": {
          "base_uri": "https://localhost:8080/",
          "height": 287
        },
        "id": "wAVLAFzhlqXe",
        "outputId": "b1ece51f-9b29-408f-8bb7-b037b8fc3e1e"
      },
      "execution_count": 9,
      "outputs": [
        {
          "output_type": "execute_result",
          "data": {
            "text/plain": [
              "(0.0, 100.0)"
            ]
          },
          "metadata": {},
          "execution_count": 9
        },
        {
          "output_type": "display_data",
          "data": {
            "text/plain": [
              "<Figure size 432x288 with 1 Axes>"
            ],
            "image/png": "[encoded data removed]"
          },
          "metadata": {
            "needs_background": "light"
          }
        }
      ]
    }
  ]
}